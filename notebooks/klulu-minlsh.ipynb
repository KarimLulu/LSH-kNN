{
 "cells": [
  {
   "cell_type": "code",
   "execution_count": 4,
   "metadata": {},
   "outputs": [],
   "source": [
    "%load_ext autoreload"
   ]
  },
  {
   "cell_type": "code",
   "execution_count": 5,
   "metadata": {},
   "outputs": [],
   "source": [
    "%autoreload 1"
   ]
  },
  {
   "cell_type": "code",
   "execution_count": 96,
   "metadata": {},
   "outputs": [],
   "source": [
    "%aimport src.lsh\n",
    "%aimport settings\n",
    "%aimport src.hashes\n",
    "%aimport src.utils\n",
    "%aimport src.lsh_knn"
   ]
  },
  {
   "cell_type": "code",
   "execution_count": 38,
   "metadata": {},
   "outputs": [],
   "source": [
    "import os\n",
    "import sys\n",
    "sys.path.append(os.environ.get(\"ALGO_COURSE_WORK_REPO\"))"
   ]
  },
  {
   "cell_type": "code",
   "execution_count": 2,
   "metadata": {},
   "outputs": [],
   "source": [
    "from IPython.core.interactiveshell import InteractiveShell\n",
    "InteractiveShell.ast_node_interactivity = \"all\""
   ]
  },
  {
   "cell_type": "code",
   "execution_count": 97,
   "metadata": {},
   "outputs": [],
   "source": [
    "from src.lsh import MinHashLSH\n",
    "from src.hashes import MinHash\n",
    "from src.utils import bytes_to_crc_32_int, bytes_to_sha_256_int\n",
    "from src.lsh_knn import MinHashLSHkNN"
   ]
  },
  {
   "cell_type": "code",
   "execution_count": 102,
   "metadata": {},
   "outputs": [
    {
     "data": {
      "text/plain": [
       "1024"
      ]
     },
     "execution_count": 102,
     "metadata": {},
     "output_type": "execute_result"
    }
   ],
   "source": [
    "mh = MinHash(hash_function=bytes_to_crc_32_int, seed=11, num_permutations=128)\n",
    "tokens = \"hello 1234 $ every ghuibn\".split()\n",
    "for token in tokens:\n",
    "    mh.update(token.encode())\n",
    "\n",
    "len(bytes(mh.hash_values))"
   ]
  },
  {
   "cell_type": "code",
   "execution_count": 120,
   "metadata": {},
   "outputs": [
    {
     "data": {
      "text/plain": [
       "defaultdict(list,\n",
       "            {b'A\\xc5\\x8b\\x8a\\x89\\x80\\x00\\x00A\\xc4\\x08\\xc0\\xcf\\x00\\x00\\x00A\\xd0\\x15B\\xb7\\x80\\x00\\x00A\\xd2)\\x94\\xbb\\x00\\x00\\x00A\\x95\\x9f\\xc1\\x00\\x00\\x00\\x00A\\xb6\\n\\xdf:\\x00\\x00\\x00A\\x98\\xdd\\xaf\\x00\\x00\\x00\\x00A\\xb5v\\xd5\\x88\\x00\\x00\\x00A\\xd1-mp\\x00\\x00\\x00A\\xdf\\x12eM\\x80\\x00\\x00A\\xb0\\xa9\\x988\\x00\\x00\\x00A\\xc2\\xf5\\xed\\xe1\\x00\\x00\\x00': ['first']})"
      ]
     },
     "execution_count": 120,
     "metadata": {},
     "output_type": "execute_result"
    }
   ],
   "source": [
    "nn = MinHashLSHkNN(num_tables=10, num_permutations=128)\n",
    "nn.add(key=\"first\", minhash=mh)\n",
    "nn.index()\n",
    "nn.hash_tables[5]"
   ]
  }
 ],
 "metadata": {
  "kernelspec": {
   "display_name": "Python 3",
   "language": "python",
   "name": "python3"
  },
  "language_info": {
   "codemirror_mode": {
    "name": "ipython",
    "version": 3
   },
   "file_extension": ".py",
   "mimetype": "text/x-python",
   "name": "python",
   "nbconvert_exporter": "python",
   "pygments_lexer": "ipython3",
   "version": "3.7.3"
  }
 },
 "nbformat": 4,
 "nbformat_minor": 4
}
