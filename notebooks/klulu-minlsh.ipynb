{
 "cells": [
  {
   "cell_type": "code",
   "execution_count": 4,
   "metadata": {},
   "outputs": [],
   "source": [
    "%load_ext autoreload"
   ]
  },
  {
   "cell_type": "code",
   "execution_count": 5,
   "metadata": {},
   "outputs": [],
   "source": [
    "%autoreload 1"
   ]
  },
  {
   "cell_type": "code",
   "execution_count": 96,
   "metadata": {},
   "outputs": [],
   "source": [
    "%aimport src.lsh\n",
    "%aimport settings\n",
    "%aimport src.hashes\n",
    "%aimport src.utils\n",
    "%aimport src.lsh_knn"
   ]
  },
  {
   "cell_type": "code",
   "execution_count": 38,
   "metadata": {},
   "outputs": [],
   "source": [
    "import os\n",
    "import sys\n",
    "sys.path.append(os.environ.get(\"ALGO_COURSE_WORK_REPO\"))"
   ]
  },
  {
   "cell_type": "code",
   "execution_count": 2,
   "metadata": {},
   "outputs": [],
   "source": [
    "from IPython.core.interactiveshell import InteractiveShell\n",
    "InteractiveShell.ast_node_interactivity = \"all\""
   ]
  },
  {
   "cell_type": "code",
   "execution_count": 130,
   "metadata": {},
   "outputs": [],
   "source": [
    "from src.lsh import MinHashLSH\n",
    "from src.hashes import MinHash\n",
    "from src.utils import bytes_to_crc_32_int, bytes_to_sha_256_int\n",
    "from src.lsh import MinHashLSH"
   ]
  },
  {
   "cell_type": "code",
   "execution_count": 131,
   "metadata": {},
   "outputs": [],
   "source": [
    "m1 = MinHash(hash_function=bytes_to_crc_32_int, seed=11, num_permutations=128)\n",
    "m2 = MinHash(hash_function=bytes_to_crc_32_int, seed=11, num_permutations=128)\n",
    "m3 = MinHash(hash_function=bytes_to_crc_32_int, seed=11, num_permutations=128)\n",
    "t1 = \"hello world. I'm here for you.\".split()\n",
    "t2 = \"how are you?\".split()\n",
    "t3 = \" I'm here for you.\".split()\n",
    "for token in t1:\n",
    "    m1.update(token.encode())\n",
    "\n",
    "for token in t2:\n",
    "    m2.update(token.encode())\n",
    "\n",
    "for token in t3:\n",
    "    m3.update(token.encode())"
   ]
  },
  {
   "cell_type": "code",
   "execution_count": 135,
   "metadata": {},
   "outputs": [
    {
     "data": {
      "text/plain": [
       "['1']"
      ]
     },
     "execution_count": 135,
     "metadata": {},
     "output_type": "execute_result"
    }
   ],
   "source": [
    "nn = MinHashLSH(num_permutations=128, params=(10, 12))\n",
    "nn.add(key=\"1\", minhash=m1)\n",
    "nn.add(key=\"2\", minhash=m2)\n",
    "# nn.add(key=\"3\", minhash=m3)\n",
    "nn.index()\n",
    "nn.query(m3, k=3)"
   ]
  }
 ],
 "metadata": {
  "kernelspec": {
   "display_name": "Python 3",
   "language": "python",
   "name": "python3"
  },
  "language_info": {
   "codemirror_mode": {
    "name": "ipython",
    "version": 3
   },
   "file_extension": ".py",
   "mimetype": "text/x-python",
   "name": "python",
   "nbconvert_exporter": "python",
   "pygments_lexer": "ipython3",
   "version": "3.7.3"
  }
 },
 "nbformat": 4,
 "nbformat_minor": 4
}
