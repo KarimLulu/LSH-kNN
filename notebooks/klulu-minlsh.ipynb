{
 "cells": [
  {
   "cell_type": "code",
   "execution_count": 4,
   "metadata": {},
   "outputs": [],
   "source": [
    "%load_ext autoreload"
   ]
  },
  {
   "cell_type": "code",
   "execution_count": 5,
   "metadata": {},
   "outputs": [],
   "source": [
    "%autoreload 1"
   ]
  },
  {
   "cell_type": "code",
   "execution_count": 96,
   "metadata": {},
   "outputs": [],
   "source": [
    "%aimport src.lsh\n",
    "%aimport settings\n",
    "%aimport src.hashes\n",
    "%aimport src.utils\n",
    "%aimport src.lsh_knn"
   ]
  },
  {
   "cell_type": "code",
   "execution_count": 38,
   "metadata": {},
   "outputs": [],
   "source": [
    "import os\n",
    "import sys\n",
    "sys.path.append(os.environ.get(\"ALGO_COURSE_WORK_REPO\"))"
   ]
  },
  {
   "cell_type": "code",
   "execution_count": 2,
   "metadata": {},
   "outputs": [],
   "source": [
    "from IPython.core.interactiveshell import InteractiveShell\n",
    "InteractiveShell.ast_node_interactivity = \"all\""
   ]
  },
  {
   "cell_type": "code",
   "execution_count": 169,
   "metadata": {},
   "outputs": [],
   "source": [
    "from src.hashes import MinHash\n",
    "from src.utils import bytes_to_crc_32_int, bytes_to_sha_256_int\n",
    "from src.lsh import MinHashLSH"
   ]
  },
  {
   "cell_type": "code",
   "execution_count": 168,
   "metadata": {},
   "outputs": [
    {
     "name": "stdout",
     "output_type": "stream",
     "text": [
      "Best neighbour: `hello world. I'm here for you.`\n"
     ]
    }
   ],
   "source": [
    "data = [\"hello world. I'm here for you.\",\n",
    "        \"how are you?\",\n",
    "        \"I don't give a fuck.\"\n",
    "       ]\n",
    "minhashes = {}\n",
    "for k, sentence in enumerate(data):\n",
    "    mh = MinHash(num_permutations=128, seed=10, hash_function=bytes_to_crc_32_int)\n",
    "    for token in sentence.split():\n",
    "        mh.update(token.encode(\"utf-8\"))\n",
    "    minhashes[k] = mh\n",
    "        \n",
    "lsh = MinHashLSH(num_permutations=128, params=(10, 12))\n",
    "lsh.batch_add(minhashes)\n",
    "lsh.index()\n",
    "\n",
    "# Query\n",
    "query = \"hello world.\"\n",
    "mh = MinHash(num_permutations=128, seed=10, hash_function=bytes_to_crc_32_int)\n",
    "for token in query.split():\n",
    "    mh.update(token.encode(\"utf-8\"))\n",
    "idx = lsh.query(mh, k=1)[0]\n",
    "print(f\"Best neighbour: `{data[idx]}`\")"
   ]
  }
 ],
 "metadata": {
  "kernelspec": {
   "display_name": "Python 3",
   "language": "python",
   "name": "python3"
  },
  "language_info": {
   "codemirror_mode": {
    "name": "ipython",
    "version": 3
   },
   "file_extension": ".py",
   "mimetype": "text/x-python",
   "name": "python",
   "nbconvert_exporter": "python",
   "pygments_lexer": "ipython3",
   "version": "3.7.3"
  }
 },
 "nbformat": 4,
 "nbformat_minor": 4
}
