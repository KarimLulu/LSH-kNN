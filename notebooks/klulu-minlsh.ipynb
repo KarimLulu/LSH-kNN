{
 "cells": [
  {
   "cell_type": "code",
   "execution_count": 649,
   "metadata": {},
   "outputs": [
    {
     "name": "stdout",
     "output_type": "stream",
     "text": [
      "The autoreload extension is already loaded. To reload it, use:\n",
      "  %reload_ext autoreload\n"
     ]
    }
   ],
   "source": [
    "%load_ext autoreload"
   ]
  },
  {
   "cell_type": "code",
   "execution_count": 5,
   "metadata": {},
   "outputs": [],
   "source": [
    "%autoreload 1"
   ]
  },
  {
   "cell_type": "code",
   "execution_count": 677,
   "metadata": {},
   "outputs": [],
   "source": [
    "%aimport src.lsh\n",
    "%aimport settings\n",
    "%aimport src.hashes\n",
    "%aimport src.utils\n",
    "%aimport src.lsh_knn"
   ]
  },
  {
   "cell_type": "code",
   "execution_count": 38,
   "metadata": {},
   "outputs": [],
   "source": [
    "import os\n",
    "import sys\n",
    "sys.path.append(os.environ.get(\"ALGO_COURSE_WORK_REPO\"))"
   ]
  },
  {
   "cell_type": "code",
   "execution_count": 2,
   "metadata": {},
   "outputs": [],
   "source": [
    "from IPython.core.interactiveshell import InteractiveShell\n",
    "InteractiveShell.ast_node_interactivity = \"all\""
   ]
  },
  {
   "cell_type": "code",
   "execution_count": 681,
   "metadata": {},
   "outputs": [],
   "source": [
    "from src.hashes import MinHash\n",
    "from src.utils import bytes_to_crc_32_int, bytes_to_sha_256_int\n",
    "from src.lsh import MinHashLSH, CosineLSH"
   ]
  },
  {
   "cell_type": "code",
   "execution_count": 242,
   "metadata": {},
   "outputs": [
    {
     "name": "stdout",
     "output_type": "stream",
     "text": [
      "Best neighbour: `[3, 4, 0]`\n"
     ]
    }
   ],
   "source": [
    "data = [\"hello world . I'm here for you .\",\n",
    "        \"how are you ?\",\n",
    "        \"I don't give a fuck .\",\n",
    "        \"hello .\",\n",
    "        \"world .\"\n",
    "       ]\n",
    "minhashes = {}\n",
    "num_permutations = 128\n",
    "hash_function = bytes_to_crc_32_int\n",
    "\n",
    "for k, sentence in enumerate(data):\n",
    "    mh = MinHash(num_permutations=num_permutations, seed=10, hash_function=hash_function)\n",
    "    for token in sentence.split():\n",
    "        mh.update(token.encode(\"utf-8\"))\n",
    "    minhashes[k] = mh\n",
    "        \n",
    "lsh = MinHashLSH(num_permutations=num_permutations, threshold=0.8)\n",
    "lsh.batch_add(minhashes)\n",
    "lsh.index()\n",
    "\n",
    "# Query\n",
    "query = \"hello world .\"\n",
    "mh = MinHash(num_permutations=num_permutations, seed=10, hash_function=hash_function)\n",
    "for token in query.split():\n",
    "    mh.update(token.encode(\"utf-8\"))\n",
    "idx = lsh.query(mh, k=100)\n",
    "print(f\"Best neighbour: `{idx}`\")"
   ]
  },
  {
   "cell_type": "code",
   "execution_count": 719,
   "metadata": {},
   "outputs": [
    {
     "data": {
      "text/plain": [
       "[3]"
      ]
     },
     "execution_count": 719,
     "metadata": {},
     "output_type": "execute_result"
    }
   ],
   "source": [
    "ch = CosineLSH(hash_size=2 ** 5, input_dim=100)\n",
    "vector1 = np.random.randn(100)\n",
    "vector2 = np.random.randn(100)\n",
    "vector3 = np.random.randn(100)\n",
    "\n",
    "ch.batch_index({1: vector1, \n",
    "                2: vector2, \n",
    "                3: vector3 + vector2 * 0.1})\n",
    "ch.query(vector2 * 0.1 + vector3 * 0.9, 10)"
   ]
  },
  {
   "cell_type": "code",
   "execution_count": 691,
   "metadata": {},
   "outputs": [],
   "source": [
    "# Plots and performance"
   ]
  },
  {
   "cell_type": "code",
   "execution_count": null,
   "metadata": {},
   "outputs": [],
   "source": []
  }
 ],
 "metadata": {
  "kernelspec": {
   "display_name": "Python 3",
   "language": "python",
   "name": "python3"
  },
  "language_info": {
   "codemirror_mode": {
    "name": "ipython",
    "version": 3
   },
   "file_extension": ".py",
   "mimetype": "text/x-python",
   "name": "python",
   "nbconvert_exporter": "python",
   "pygments_lexer": "ipython3",
   "version": "3.7.3"
  }
 },
 "nbformat": 4,
 "nbformat_minor": 4
}
