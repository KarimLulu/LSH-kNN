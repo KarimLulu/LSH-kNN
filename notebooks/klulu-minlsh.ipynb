{
 "cells": [
  {
   "cell_type": "code",
   "execution_count": 1,
   "metadata": {},
   "outputs": [],
   "source": [
    "%load_ext autoreload"
   ]
  },
  {
   "cell_type": "code",
   "execution_count": 2,
   "metadata": {},
   "outputs": [],
   "source": [
    "%autoreload 1"
   ]
  },
  {
   "cell_type": "code",
   "execution_count": 8,
   "metadata": {},
   "outputs": [],
   "source": [
    "%aimport src.lsh\n",
    "%aimport settings\n",
    "%aimport src.hashes\n",
    "%aimport src.utils"
   ]
  },
  {
   "cell_type": "code",
   "execution_count": 7,
   "metadata": {},
   "outputs": [],
   "source": [
    "import os\n",
    "import sys\n",
    "sys.path.append(os.environ.get(\"ALGO_COURSE_WORK_REPO\"))"
   ]
  },
  {
   "cell_type": "code",
   "execution_count": 10,
   "metadata": {},
   "outputs": [],
   "source": [
    "from IPython.core.interactiveshell import InteractiveShell\n",
    "InteractiveShell.ast_node_interactivity = \"all\""
   ]
  },
  {
   "cell_type": "code",
   "execution_count": 9,
   "metadata": {},
   "outputs": [],
   "source": [
    "from src.hashes import MinHash\n",
    "from src.utils import bytes_to_crc_32_int, bytes_to_sha_256_int\n",
    "from src.lsh import MinHashLSH, CosineLSH"
   ]
  },
  {
   "cell_type": "code",
   "execution_count": 11,
   "metadata": {},
   "outputs": [
    {
     "name": "stdout",
     "output_type": "stream",
     "text": [
      "Best neighbour: `[3, 4, 0]`\n"
     ]
    }
   ],
   "source": [
    "data = [\"hello world . I'm here for you .\",\n",
    "        \"how are you ?\",\n",
    "        \"I don't give a fuck .\",\n",
    "        \"hello .\",\n",
    "        \"world .\"\n",
    "       ]\n",
    "minhashes = {}\n",
    "num_permutations = 128\n",
    "hash_function = bytes_to_crc_32_int\n",
    "\n",
    "for k, sentence in enumerate(data):\n",
    "    mh = MinHash(num_permutations=num_permutations, seed=10, hash_function=hash_function)\n",
    "    for token in sentence.split():\n",
    "        mh.update(token.encode(\"utf-8\"))\n",
    "    minhashes[k] = mh\n",
    "        \n",
    "lsh = MinHashLSH(num_permutations=num_permutations, threshold=0.8)\n",
    "lsh.batch_add(minhashes)\n",
    "lsh.index()\n",
    "\n",
    "# Query\n",
    "query = \"hello world .\"\n",
    "mh = MinHash(num_permutations=num_permutations, seed=10, hash_function=hash_function)\n",
    "for token in query.split():\n",
    "    mh.update(token.encode(\"utf-8\"))\n",
    "idx = lsh.query(mh, k=100)\n",
    "print(f\"Best neighbour: `{idx}`\")"
   ]
  },
  {
   "cell_type": "code",
   "execution_count": 12,
   "metadata": {},
   "outputs": [
    {
     "ename": "NameError",
     "evalue": "name 'np' is not defined",
     "output_type": "error",
     "traceback": [
      "\u001b[0;31m---------------------------------------------------------------------------\u001b[0m",
      "\u001b[0;31mNameError\u001b[0m                                 Traceback (most recent call last)",
      "\u001b[0;32m<ipython-input-12-7b9df4fe889e>\u001b[0m in \u001b[0;36m<module>\u001b[0;34m\u001b[0m\n\u001b[1;32m      1\u001b[0m \u001b[0mch\u001b[0m \u001b[0;34m=\u001b[0m \u001b[0mCosineLSH\u001b[0m\u001b[0;34m(\u001b[0m\u001b[0mhash_size\u001b[0m\u001b[0;34m=\u001b[0m\u001b[0;36m2\u001b[0m \u001b[0;34m**\u001b[0m \u001b[0;36m10\u001b[0m\u001b[0;34m,\u001b[0m \u001b[0minput_dim\u001b[0m\u001b[0;34m=\u001b[0m\u001b[0;36m100\u001b[0m\u001b[0;34m)\u001b[0m\u001b[0;34m\u001b[0m\u001b[0;34m\u001b[0m\u001b[0m\n\u001b[0;32m----> 2\u001b[0;31m \u001b[0mvector1\u001b[0m \u001b[0;34m=\u001b[0m \u001b[0mnp\u001b[0m\u001b[0;34m.\u001b[0m\u001b[0mrandom\u001b[0m\u001b[0;34m.\u001b[0m\u001b[0mrandn\u001b[0m\u001b[0;34m(\u001b[0m\u001b[0;36m100\u001b[0m\u001b[0;34m)\u001b[0m\u001b[0;34m\u001b[0m\u001b[0;34m\u001b[0m\u001b[0m\n\u001b[0m\u001b[1;32m      3\u001b[0m \u001b[0mvector2\u001b[0m \u001b[0;34m=\u001b[0m \u001b[0mnp\u001b[0m\u001b[0;34m.\u001b[0m\u001b[0mrandom\u001b[0m\u001b[0;34m.\u001b[0m\u001b[0mrandn\u001b[0m\u001b[0;34m(\u001b[0m\u001b[0;36m100\u001b[0m\u001b[0;34m)\u001b[0m\u001b[0;34m\u001b[0m\u001b[0;34m\u001b[0m\u001b[0m\n\u001b[1;32m      4\u001b[0m \u001b[0mvector3\u001b[0m \u001b[0;34m=\u001b[0m \u001b[0mnp\u001b[0m\u001b[0;34m.\u001b[0m\u001b[0mrandom\u001b[0m\u001b[0;34m.\u001b[0m\u001b[0mrandn\u001b[0m\u001b[0;34m(\u001b[0m\u001b[0;36m100\u001b[0m\u001b[0;34m)\u001b[0m\u001b[0;34m\u001b[0m\u001b[0;34m\u001b[0m\u001b[0m\n\u001b[1;32m      5\u001b[0m \u001b[0;34m\u001b[0m\u001b[0m\n",
      "\u001b[0;31mNameError\u001b[0m: name 'np' is not defined"
     ]
    }
   ],
   "source": [
    "ch = CosineLSH(hash_size=2 ** 10, input_dim=100)\n",
    "vector1 = np.random.randn(100)\n",
    "vector2 = np.random.randn(100)\n",
    "vector3 = np.random.randn(100)\n",
    "\n",
    "ch.batch_index({1: vector1, \n",
    "                2: vector2, \n",
    "                3: vector3 * 0.1 + vector2 * 0.9})\n",
    "ch.query(vector2 * 0.9 + vector3 * 0.1, 10)"
   ]
  },
  {
   "cell_type": "code",
   "execution_count": 691,
   "metadata": {},
   "outputs": [],
   "source": [
    "# Plots and performance"
   ]
  },
  {
   "cell_type": "markdown",
   "metadata": {},
   "source": [
    "#### Benchmark for MinHash LSH"
   ]
  },
  {
   "cell_type": "code",
   "execution_count": 13,
   "metadata": {},
   "outputs": [],
   "source": [
    "import sklearn\n",
    "import nltk"
   ]
  },
  {
   "cell_type": "code",
   "execution_count": 44,
   "metadata": {},
   "outputs": [
    {
     "name": "stdout",
     "output_type": "stream",
     "text": [
      "Use num_perm = 32\n",
      "Running LSH benchmark l = 8\n",
      "Building LSH Forest index\n",
      "Querying\n"
     ]
    },
    {
     "name": "stderr",
     "output_type": "stream",
     "text": [
      "/Users/karimlulu/miniconda3/envs/algo/lib/python3.7/site-packages/ipykernel_launcher.py:84: DeprecationWarning: time.clock has been deprecated in Python 3.3 and will be removed from Python 3.8: use time.perf_counter or time.process_time instead\n",
      "/Users/karimlulu/miniconda3/envs/algo/lib/python3.7/site-packages/ipykernel_launcher.py:86: DeprecationWarning: time.clock has been deprecated in Python 3.3 and will be removed from Python 3.8: use time.perf_counter or time.process_time instead\n"
     ]
    },
    {
     "name": "stdout",
     "output_type": "stream",
     "text": [
      "Running linear scan benchmark\n"
     ]
    },
    {
     "name": "stderr",
     "output_type": "stream",
     "text": [
      "/Users/karimlulu/miniconda3/envs/algo/lib/python3.7/site-packages/ipykernel_launcher.py:98: DeprecationWarning: time.clock has been deprecated in Python 3.3 and will be removed from Python 3.8: use time.perf_counter or time.process_time instead\n",
      "/Users/karimlulu/miniconda3/envs/algo/lib/python3.7/site-packages/ipykernel_launcher.py:104: DeprecationWarning: time.clock has been deprecated in Python 3.3 and will be removed from Python 3.8: use time.perf_counter or time.process_time instead\n"
     ]
    },
    {
     "name": "stdout",
     "output_type": "stream",
     "text": [
      "Use num_perm = 64\n",
      "Running LSH benchmark l = 8\n",
      "Building LSH Forest index\n",
      "Querying\n",
      "Running linear scan benchmark\n",
      "Use num_perm = 96\n",
      "Running LSH benchmark l = 8\n",
      "Building LSH Forest index\n",
      "Querying\n",
      "Running linear scan benchmark\n",
      "Use num_perm = 128\n",
      "Running LSH benchmark l = 8\n",
      "Building LSH Forest index\n",
      "Querying\n",
      "Running linear scan benchmark\n",
      "Use num_perm = 160\n",
      "Running LSH benchmark l = 8\n",
      "Building LSH Forest index\n",
      "Querying\n",
      "Running linear scan benchmark\n",
      "Use num_perm = 192\n",
      "Running LSH benchmark l = 8\n",
      "Building LSH Forest index\n",
      "Querying\n",
      "Running linear scan benchmark\n",
      "Use num_perm = 224\n",
      "Running LSH benchmark l = 8\n",
      "Building LSH Forest index\n",
      "Querying\n",
      "Running linear scan benchmark\n",
      "Use num_perm = 256\n",
      "Running LSH benchmark l = 8\n",
      "Building LSH Forest index\n",
      "Querying\n",
      "Running linear scan benchmark\n",
      "Running ground truth benchmark\n"
     ]
    },
    {
     "name": "stderr",
     "output_type": "stream",
     "text": [
      "/Users/karimlulu/miniconda3/envs/algo/lib/python3.7/site-packages/ipykernel_launcher.py:118: DeprecationWarning: time.clock has been deprecated in Python 3.3 and will be removed from Python 3.8: use time.perf_counter or time.process_time instead\n",
      "/Users/karimlulu/miniconda3/envs/algo/lib/python3.7/site-packages/ipykernel_launcher.py:122: DeprecationWarning: time.clock has been deprecated in Python 3.3 and will be removed from Python 3.8: use time.perf_counter or time.process_time instead\n"
     ]
    },
    {
     "name": "stdout",
     "output_type": "stream",
     "text": [
      "Average cardinality is 2570.0454545454545\n"
     ]
    }
   ],
   "source": [
    "import time, argparse, sys, json\n",
    "import numpy as np\n",
    "import nltk\n",
    "import scipy.stats\n",
    "import random\n",
    "import collections\n",
    "\n",
    "def bootstrap_data(num_perms, n, population_size, set_size_dist):\n",
    "    random.seed(42)\n",
    "    print(\"Creating sets...\")\n",
    "    population = [str(i) for i in range(population_size)]\n",
    "    sets = [set(random.sample(population, set_size_dist.rvs()))\n",
    "            for _ in range(n)]\n",
    "    keys = list(range(len(sets)))\n",
    "    print(\"Creating minhashes...\")\n",
    "    minhashes = dict()\n",
    "    for num_perm in num_perms:\n",
    "        ms = []\n",
    "        for s in sets:\n",
    "            m = MinHash(num_permutations=num_perm)\n",
    "            for word in s:\n",
    "                m.update(word.encode(\"utf8\"))\n",
    "            ms.append(m)\n",
    "        minhashes[num_perm] = ms\n",
    "    Data = collections.namedtuple('Data', ['minhashes', 'sets', 'keys'])\n",
    "    index_data = Data(minhashes, sets, keys)\n",
    "    query_indices = random.sample(list(range(len(sets))), int(len(sets)*0.1))\n",
    "    if len(query_indices) == 0:\n",
    "        raise RuntimeError(\"Empty query sets\")\n",
    "    query_data = Data(dict((num_perm, [minhashes[num_perm][i] for i in query_indices])\n",
    "                           for num_perm in num_perms),\n",
    "                      [sets[i] for i in query_indices],\n",
    "                      [keys[i] for i in query_indices])\n",
    "    return index_data, query_data\n",
    "\n",
    "\n",
    "def get_twitter_data(num_perms, subset):\n",
    "    nltk.download(\"stopwords\")\n",
    "    nltk.download(\"twitter_samples\")\n",
    "    stopwords = set(nltk.corpus.stopwords.words(\"english\"))\n",
    "    tweets = nltk.corpus.twitter_samples.tokenized('tweets.20150430-223406.json')[:subset]\n",
    "    minhashes = []\n",
    "    sets = []\n",
    "    print(\"Creating sets...\")\n",
    "    for i, text in enumerate(tweets):\n",
    "        s = set(w for w in text\n",
    "                if w not in stopwords)\n",
    "        if len(s) == 0:\n",
    "            continue\n",
    "        sets.append(s)\n",
    "    keys = list(range(len(sets)))\n",
    "    print(\"Creating MinHash...\")\n",
    "    minhashes = dict()\n",
    "    for num_perm in num_perms:\n",
    "        ms = []\n",
    "        for s in sets:\n",
    "            m = MinHash(num_permutations=num_perm)\n",
    "            for word in s:\n",
    "                m.update(word.encode(\"utf8\"))\n",
    "            ms.append(m)\n",
    "        minhashes[num_perm] = ms\n",
    "    Data = collections.namedtuple('Data', ['minhashes', 'sets', 'keys'])\n",
    "    index_data = Data(minhashes, sets, keys)\n",
    "    query_indices = random.sample(list(range(len(sets))), int(len(sets)*0.1))\n",
    "    if len(query_indices) == 0:\n",
    "        raise RuntimeError(\"Empty query sets\")\n",
    "    query_data = Data(dict((num_perm, [minhashes[num_perm][i] for i in query_indices])\n",
    "                           for num_perm in num_perms),\n",
    "                      [sets[i] for i in query_indices],\n",
    "                      [keys[i] for i in query_indices])\n",
    "    return index_data, query_data\n",
    "\n",
    "\n",
    "def benchmark_lshforest(num_perm, l, k, index_data, query_data):\n",
    "    print(\"Building LSH Forest index\")\n",
    "    forest = MinHashLSHForest(num_perm, l)#(num_permutations=num_perm, params=(l, num_perm // l))\n",
    "    for key, minhash in zip(index_data.keys, index_data.minhashes[num_perm]):\n",
    "        forest.add(key, minhash)\n",
    "    forest.index()\n",
    "    print(\"Querying\")\n",
    "    times = []\n",
    "    results = []\n",
    "    for qs, minhash in zip(query_data.sets, query_data.minhashes[num_perm]):\n",
    "        start = time.clock()\n",
    "        result = forest.query(minhash, k)\n",
    "        duration = time.clock() - start\n",
    "        times.append(duration)\n",
    "        results.append(sorted([[key, _compute_jaccard(qs, index_data.sets[key])]\n",
    "                               for key in result],\n",
    "                              key=lambda x : x[1], reverse=True))\n",
    "    return times, results\n",
    "\n",
    "\n",
    "def benchmark_linearscan(num_perm, k, index_data, query_data):\n",
    "    times = []\n",
    "    results = []\n",
    "    for qs, q in zip(query_data.sets, query_data.minhashes[num_perm]):\n",
    "        start = time.clock()\n",
    "        result = []\n",
    "        result = [(key, q.jaccard(m))\n",
    "                  for key, m in zip(index_data.keys, index_data.minhashes[num_perm])]\n",
    "        result.sort(key=lambda x : x[1], reverse=True)\n",
    "        result = [x[0] for x in result[:k]]\n",
    "        duration = time.clock() - start\n",
    "        times.append(duration)\n",
    "        results.append(sorted([[key, _compute_jaccard(qs, index_data.sets[key])]\n",
    "                               for key in result],\n",
    "                              key=lambda x : x[1], reverse=True))\n",
    "    return times, results\n",
    "\n",
    "\n",
    "def benchmark_ground_truth(k, index_data, query_data):\n",
    "    times = []\n",
    "    results = []\n",
    "    # use less decimal precision for collecting top-k ground truth\n",
    "    truncate_decimal = lambda x : float(int(x*100)) / 100.0\n",
    "    for q in query_data.sets:\n",
    "        start = time.clock()\n",
    "        result = [(key, _compute_jaccard(q, a))\n",
    "                  for key, a in zip(index_data.keys, index_data.sets)]\n",
    "        result.sort(key=lambda x : x[1], reverse=True)\n",
    "        duration = time.clock() - start\n",
    "        topk_result = []\n",
    "        curr_rank = 0\n",
    "        curr_j2 = -1.0\n",
    "        for key, j in result:\n",
    "            j2 = truncate_decimal(j)\n",
    "            if j2 != curr_j2:\n",
    "                curr_j2 = j2\n",
    "                curr_rank += 1\n",
    "            if curr_rank > k:\n",
    "                break\n",
    "            topk_result.append([key, j])\n",
    "        # assert(len(set(truncate_decimal(x[1]) for x in topk_result)) == k)\n",
    "        results.append(topk_result)\n",
    "        times.append(duration)\n",
    "    return times, results\n",
    "\n",
    "\n",
    "def _compute_jaccard(x, y):\n",
    "    if len(x) == 0 or len(y) == 0:\n",
    "        return 0.0\n",
    "    intersection = 0\n",
    "    for w in x:\n",
    "        if w in y:\n",
    "            intersection += 1\n",
    "    return float(intersection) / float(len(x) + len(y) - intersection)\n",
    "\n",
    "\n",
    "num_perms = [32, 64, 96, 128, 160, 192, 224, 256]\n",
    "l = 8\n",
    "k = 10\n",
    "output = {\"num_perms\" : num_perms,\n",
    "          \"l\" : l,\n",
    "          \"k\" : k,\n",
    "          \"lsh_times\" : [], \"lsh_results\" : [],\n",
    "          \"linearscan_times\" : [], \"linearscan_results\" : [],\n",
    "          \"ground_truth_times\" : None, \"ground_truth_results\" : None}\n",
    "# index_data, query_data = bootstrap_data(num_perms, 1000, 5000,\n",
    "#         scipy.stats.randint(10, 5000))\n",
    "\n",
    "for num_perm in num_perms:\n",
    "    print(\"Use num_perm = %d\" % num_perm)\n",
    "    result = {}\n",
    "    print(\"Running LSH benchmark l = %d\" % l)\n",
    "    lsh_times, lsh_results = benchmark_lshforest(num_perm, l, k, index_data, query_data)\n",
    "    print(\"Running linear scan benchmark\")\n",
    "    linearscan_times, linearscan_results = benchmark_linearscan(num_perm, k, index_data, query_data)\n",
    "    output[\"lsh_times\"].append(lsh_times)\n",
    "    output[\"lsh_results\"].append(lsh_results)\n",
    "    output[\"linearscan_times\"].append(linearscan_times)\n",
    "    output[\"linearscan_results\"].append(linearscan_results)\n",
    "\n",
    "print(\"Running ground truth benchmark\")\n",
    "output[\"ground_truth_times\"], output[\"ground_truth_results\"] =\\\n",
    "        benchmark_ground_truth(k, index_data, query_data)\n",
    "\n",
    "average_cardinality = np.mean([len(s) for s in\n",
    "    index_data.sets + query_data.sets])\n",
    "print(\"Average cardinality is\", average_cardinality)"
   ]
  },
  {
   "cell_type": "code",
   "execution_count": 31,
   "metadata": {},
   "outputs": [],
   "source": [
    "import json, sys, argparse\n",
    "import numpy as np\n",
    "import matplotlib\n",
    "import matplotlib.pyplot as plt\n",
    "\n",
    "\n",
    "def get_precision_recall(found, reference):\n",
    "    reference = set(reference)\n",
    "    intersect = sum(1 for i in found if i in reference)\n",
    "    if len(found) == 0:\n",
    "        precision = 0.0\n",
    "    else:\n",
    "        precision = float(intersect) / float(len(found))\n",
    "    if len(reference) == 0:\n",
    "        recall = 1.0\n",
    "    else:\n",
    "        recall = float(intersect) / float(len(reference))\n",
    "    if len(found) == len(reference) == 0:\n",
    "        precision = 1.0\n",
    "        recall = 1.0\n",
    "    return [precision, recall]\n",
    "\n",
    "def fscore(precision, recall):\n",
    "    if precision == 0.0 and recall == 0.0:\n",
    "        return 0.0\n",
    "    return 2.0 / (1.0 / precision + 1.0 / recall)\n",
    "\n",
    "def average_fscore(founds, references):\n",
    "    return np.mean([fscore(*get_precision_recall(found, reference))\n",
    "                    for found, reference in zip(founds, references)])"
   ]
  },
  {
   "cell_type": "code",
   "execution_count": 16,
   "metadata": {},
   "outputs": [],
   "source": [
    "import numpy as np\n",
    "\n",
    "def apk(actual, predicted, k=10):\n",
    "    \"\"\"\n",
    "    Computes the average precision at k.\n",
    "    This function computes the average prescision at k between two lists of\n",
    "    items.\n",
    "    Parameters\n",
    "    ----------\n",
    "    actual : list\n",
    "             A list of elements that are to be predicted (order doesn't matter)\n",
    "    predicted : list\n",
    "                A list of predicted elements (order does matter)\n",
    "    k : int, optional\n",
    "        The maximum number of predicted elements\n",
    "    Returns\n",
    "    -------\n",
    "    score : double\n",
    "            The average precision at k over the input lists\n",
    "    \"\"\"\n",
    "    if len(predicted)>k:\n",
    "        predicted = predicted[:k]\n",
    "\n",
    "    score = 0.0\n",
    "    num_hits = 0.0\n",
    "\n",
    "    for i,p in enumerate(predicted):\n",
    "        if p in actual and p not in predicted[:i]:\n",
    "            num_hits += 1.0\n",
    "            score += num_hits / (i+1.0)\n",
    "\n",
    "    if len(actual) == 0:\n",
    "        return 0.0\n",
    "\n",
    "    return score / min(len(actual), k)\n",
    "\n",
    "def mapk(actual, predicted, k=10):\n",
    "    \"\"\"\n",
    "    Computes the mean average precision at k.\n",
    "    This function computes the mean average prescision at k between two lists\n",
    "    of lists of items.\n",
    "    Parameters\n",
    "    ----------\n",
    "    actual : list\n",
    "             A list of lists of elements that are to be predicted \n",
    "             (order doesn't matter in the lists)\n",
    "    predicted : list\n",
    "                A list of lists of predicted elements\n",
    "                (order matters in the lists)\n",
    "    k : int, optional\n",
    "        The maximum number of predicted elements\n",
    "    Returns\n",
    "    -------\n",
    "    score : double\n",
    "            The mean average precision at k over the input lists\n",
    "    \"\"\"\n",
    "    return np.mean([apk(a,p,k) for a,p in zip(actual, predicted)])"
   ]
  },
  {
   "cell_type": "code",
   "execution_count": 45,
   "metadata": {},
   "outputs": [],
   "source": [
    "benchmark = output"
   ]
  },
  {
   "cell_type": "code",
   "execution_count": 58,
   "metadata": {},
   "outputs": [
    {
     "data": {
      "text/plain": [
       "[<matplotlib.lines.Line2D at 0x124f12438>]"
      ]
     },
     "execution_count": 58,
     "metadata": {},
     "output_type": "execute_result"
    },
    {
     "data": {
      "text/plain": [
       "[<matplotlib.lines.Line2D at 0x125fcd7f0>]"
      ]
     },
     "execution_count": 58,
     "metadata": {},
     "output_type": "execute_result"
    },
    {
     "data": {
      "text/plain": [
       "Text(0, 0.5, 'MAP (k = 10)')"
      ]
     },
     "execution_count": 58,
     "metadata": {},
     "output_type": "execute_result"
    },
    {
     "data": {
      "text/plain": [
       "Text(0.5, 0, '# of permutation functions')"
      ]
     },
     "execution_count": 58,
     "metadata": {},
     "output_type": "execute_result"
    },
    {
     "data": {
      "text/plain": [
       "<matplotlib.legend.Legend at 0x125fcdb38>"
      ]
     },
     "execution_count": 58,
     "metadata": {},
     "output_type": "execute_result"
    },
    {
     "data": {
      "text/plain": [
       "[<matplotlib.lines.Line2D at 0x125fcdcc0>]"
      ]
     },
     "execution_count": 58,
     "metadata": {},
     "output_type": "execute_result"
    },
    {
     "data": {
      "text/plain": [
       "[<matplotlib.lines.Line2D at 0x125fcdef0>]"
      ]
     },
     "execution_count": 58,
     "metadata": {},
     "output_type": "execute_result"
    },
    {
     "data": {
      "text/plain": [
       "Text(0.5, 0, '# of permutation functions')"
      ]
     },
     "execution_count": 58,
     "metadata": {},
     "output_type": "execute_result"
    },
    {
     "data": {
      "text/plain": [
       "Text(0, 0.5, 'time (median, ms)')"
      ]
     },
     "execution_count": 58,
     "metadata": {},
     "output_type": "execute_result"
    },
    {
     "data": {
      "text/plain": [
       "<matplotlib.legend.Legend at 0x125fdcb38>"
      ]
     },
     "execution_count": 58,
     "metadata": {},
     "output_type": "execute_result"
    },
    {
     "data": {
      "image/png": "[encoded data removed]",
      "text/plain": [
       "<Figure size 360x648 with 2 Axes>"
      ]
     },
     "metadata": {
      "needs_background": "light"
     },
     "output_type": "display_data"
    }
   ],
   "source": [
    "import json, sys, argparse\n",
    "import numpy as np\n",
    "import matplotlib\n",
    "import matplotlib.pyplot as plt\n",
    "\n",
    "\n",
    "num_perms = benchmark[\"num_perms\"]\n",
    "lsh_times = benchmark[\"lsh_times\"]\n",
    "linearscan_times = benchmark[\"linearscan_times\"]\n",
    "ground_truth_results = [[x[0] for x in r] for r in benchmark[\"ground_truth_results\"]]\n",
    "k = 10\n",
    "lsh_maps = []\n",
    "for results in benchmark[\"lsh_results\"]:\n",
    "    query_results = [[x[0] for x in r] for r in results]\n",
    "    lsh_maps.append(mapk(ground_truth_results, query_results, k))\n",
    "linearscan_maps = []\n",
    "for results in benchmark[\"linearscan_results\"]:\n",
    "    query_results = [[x[0] for x in r] for r in results]\n",
    "    linearscan_maps.append(mapk(ground_truth_results, query_results, k))\n",
    "\n",
    "lsh_times = np.array([np.percentile(ts, 50) \n",
    "    for ts in lsh_times])*1000\n",
    "linearscan_times = np.array([np.percentile(ts, 50) \n",
    "    for ts in linearscan_times])*1000\n",
    "\n",
    "fig, axes = plt.subplots(2, 1, figsize=(5, 4.5*2), sharex=False)\n",
    "# Plot query average MAP vs. num perm\n",
    "axes[0].plot(num_perms, linearscan_maps, marker=\"+\", label=\"Linear search\")\n",
    "axes[0].plot(num_perms, lsh_maps, marker=\"+\", label=\"MinHash LSH\")\n",
    "axes[0].set_ylabel(\"MAP (k = %d)\" % k)\n",
    "axes[0].set_xlabel(\"# of permutation functions\")\n",
    "axes[0].grid()\n",
    "axes[0].legend(loc=\"center right\")\n",
    "# Plot query time vs. num perm\n",
    "axes[1].plot(num_perms, linearscan_times, marker=\"+\", label=\"Linear search\")\n",
    "axes[1].plot(num_perms, lsh_times, marker=\"+\", label=\"MinHash LSH\")\n",
    "axes[1].set_xlabel(\"# of permutation functions\")\n",
    "axes[1].set_ylabel(\"time (median, ms)\")\n",
    "axes[1].grid()\n",
    "axes[1].legend(loc=\"center right\")\n",
    "fig.savefig(\"lshforest_benchmark.png\", pad_inches=0.05, bbox_inches=\"tight\")\n",
    "plt.show()"
   ]
  }
 ],
 "metadata": {
  "kernelspec": {
   "display_name": "Python 3",
   "language": "python",
   "name": "python3"
  },
  "language_info": {
   "codemirror_mode": {
    "name": "ipython",
    "version": 3
   },
   "file_extension": ".py",
   "mimetype": "text/x-python",
   "name": "python",
   "nbconvert_exporter": "python",
   "pygments_lexer": "ipython3",
   "version": "3.7.3"
  }
 },
 "nbformat": 4,
 "nbformat_minor": 4
}
